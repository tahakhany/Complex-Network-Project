{
 "cells": [
  {
   "cell_type": "markdown",
   "source": [
    "# Install the Requirements"
   ],
   "metadata": {
    "collapsed": false
   }
  },
  {
   "cell_type": "code",
   "execution_count": 1,
   "outputs": [
    {
     "name": "stdout",
     "output_type": "stream",
     "text": [
      "Requirement already satisfied: pandas in d:\\complex_network_project\\lib\\site-packages (from -r requirements.txt (line 1)) (2.0.1)\n",
      "Requirement already satisfied: openpyxl in d:\\complex_network_project\\lib\\site-packages (from -r requirements.txt (line 2)) (3.1.2)\n",
      "Requirement already satisfied: networkx in d:\\complex_network_project\\lib\\site-packages (from -r requirements.txt (line 3)) (3.1)\n",
      "Requirement already satisfied: matplotlib in d:\\complex_network_project\\lib\\site-packages (from -r requirements.txt (line 4)) (3.7.1)\n",
      "Requirement already satisfied: scipy in d:\\complex_network_project\\lib\\site-packages (from -r requirements.txt (line 5)) (1.10.1)\n",
      "Requirement already satisfied: python-dateutil>=2.8.2 in d:\\complex_network_project\\lib\\site-packages (from pandas->-r requirements.txt (line 1)) (2.8.2)\n",
      "Requirement already satisfied: pytz>=2020.1 in d:\\complex_network_project\\lib\\site-packages (from pandas->-r requirements.txt (line 1)) (2023.3)\n",
      "Requirement already satisfied: tzdata>=2022.1 in d:\\complex_network_project\\lib\\site-packages (from pandas->-r requirements.txt (line 1)) (2023.3)\n",
      "Requirement already satisfied: numpy>=1.21.0 in d:\\complex_network_project\\lib\\site-packages (from pandas->-r requirements.txt (line 1)) (1.24.3)\n",
      "Requirement already satisfied: et-xmlfile in d:\\complex_network_project\\lib\\site-packages (from openpyxl->-r requirements.txt (line 2)) (1.1.0)\n",
      "Requirement already satisfied: contourpy>=1.0.1 in d:\\complex_network_project\\lib\\site-packages (from matplotlib->-r requirements.txt (line 4)) (1.0.7)\n",
      "Requirement already satisfied: cycler>=0.10 in d:\\complex_network_project\\lib\\site-packages (from matplotlib->-r requirements.txt (line 4)) (0.11.0)\n",
      "Requirement already satisfied: fonttools>=4.22.0 in d:\\complex_network_project\\lib\\site-packages (from matplotlib->-r requirements.txt (line 4)) (4.39.4)\n",
      "Requirement already satisfied: kiwisolver>=1.0.1 in d:\\complex_network_project\\lib\\site-packages (from matplotlib->-r requirements.txt (line 4)) (1.4.4)\n",
      "Requirement already satisfied: packaging>=20.0 in d:\\complex_network_project\\lib\\site-packages (from matplotlib->-r requirements.txt (line 4)) (23.1)\n",
      "Requirement already satisfied: pillow>=6.2.0 in d:\\complex_network_project\\lib\\site-packages (from matplotlib->-r requirements.txt (line 4)) (9.5.0)\n",
      "Requirement already satisfied: pyparsing>=2.3.1 in d:\\complex_network_project\\lib\\site-packages (from matplotlib->-r requirements.txt (line 4)) (3.0.9)\n",
      "Requirement already satisfied: six>=1.5 in d:\\complex_network_project\\lib\\site-packages (from python-dateutil>=2.8.2->pandas->-r requirements.txt (line 1)) (1.16.0)\n",
      "Note: you may need to restart the kernel to use updated packages.\n"
     ]
    },
    {
     "name": "stderr",
     "output_type": "stream",
     "text": [
      "\n",
      "[notice] A new release of pip available: 22.3.1 -> 23.1.2\n",
      "[notice] To update, run: python.exe -m pip install --upgrade pip\n"
     ]
    }
   ],
   "source": [
    "pip install -r requirements.txt"
   ],
   "metadata": {
    "collapsed": false,
    "ExecuteTime": {
     "end_time": "2023-05-26T20:24:12.624611400Z",
     "start_time": "2023-05-26T20:24:09.229367200Z"
    }
   }
  },
  {
   "cell_type": "markdown",
   "source": [
    "# Load The Graph"
   ],
   "metadata": {
    "collapsed": false
   }
  },
  {
   "cell_type": "code",
   "execution_count": 2,
   "outputs": [],
   "source": [
    "import pandas as pd\n",
    "import networkx as nx\n",
    "import matplotlib.pyplot as plt\n",
    "\n",
    "# File paths relative to the root directory\n",
    "node_file_path = \"Graph/nodes.xlsx\"\n",
    "edge_file_path = \"Graph/edges.xlsx\"\n",
    "\n",
    "# Load the node data from \"node.xlsx\" using pandas\n",
    "node_data = pd.read_excel(node_file_path)\n",
    "\n",
    "# Load the edge data from \"edges.xlsx\" using pandas\n",
    "edge_data = pd.read_excel(edge_file_path)\n",
    "\n",
    "# Create an empty directed graph using NetworkX\n",
    "graph = nx.DiGraph()\n",
    "\n",
    "# Add nodes to the graph using the node data\n",
    "for _, node in node_data.iterrows():\n",
    "    graph.add_node(node[\"NodeId\"], label=node[\"Labels\"])\n",
    "\n",
    "# Add edges to the graph using the edge data\n",
    "for _, edge in edge_data.iterrows():\n",
    "    graph.add_edge(edge[\"sourceNodeId\"], edge[\"targetNodeId\"])\n"
   ],
   "metadata": {
    "collapsed": false,
    "ExecuteTime": {
     "end_time": "2023-05-26T20:24:38.029598800Z",
     "start_time": "2023-05-26T20:24:31.953685700Z"
    }
   }
  },
  {
   "cell_type": "markdown",
   "source": [
    "# Visualise the Graph"
   ],
   "metadata": {
    "collapsed": false
   }
  },
  {
   "cell_type": "code",
   "execution_count": null,
   "outputs": [],
   "source": [
    "plt.figure(figsize=(10, 8))  # Adjust the figure size as per your preference\n",
    "pos = nx.spring_layout(graph)\n",
    "nx.draw_networkx(graph, pos, with_labels=True, node_size=50, node_color=\"lightblue\", edge_color=\"green\", arrows=True, arrowstyle=\"->\", width=1.0)\n",
    "\n",
    "# Set node labels\n",
    "node_labels = nx.get_node_attributes(graph, \"Labels\")\n",
    "nx.draw_networkx_labels(graph, pos, labels=node_labels)\n",
    "\n",
    "# Show the graph\n",
    "plt.axis(\"off\")  # Remove axis\n",
    "plt.show()\n"
   ],
   "metadata": {
    "collapsed": false,
    "is_executing": true,
    "ExecuteTime": {
     "start_time": "2023-05-26T20:33:23.909088700Z"
    }
   }
  }
 ],
 "metadata": {
  "kernelspec": {
   "display_name": "Python 3",
   "language": "python",
   "name": "python3"
  },
  "language_info": {
   "codemirror_mode": {
    "name": "ipython",
    "version": 2
   },
   "file_extension": ".py",
   "mimetype": "text/x-python",
   "name": "python",
   "nbconvert_exporter": "python",
   "pygments_lexer": "ipython2",
   "version": "2.7.6"
  }
 },
 "nbformat": 4,
 "nbformat_minor": 0
}
